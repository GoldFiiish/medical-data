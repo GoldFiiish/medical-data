{
  "nbformat": 4,
  "nbformat_minor": 0,
  "metadata": {
    "colab": {
      "name": "FolderSizeinGDrive.ipynb",
      "provenance": [],
      "authorship_tag": "ABX9TyPHeupmxKNWqIRst3C0LS4I",
      "include_colab_link": true
    },
    "kernelspec": {
      "name": "python3",
      "display_name": "Python 3"
    }
  },
  "cells": [
    {
      "cell_type": "markdown",
      "metadata": {
        "id": "view-in-github",
        "colab_type": "text"
      },
      "source": [
        "<a href=\"https://colab.research.google.com/github/GoldFiiish/medical-data/blob/master/FolderSizeinGDrive.ipynb\" target=\"_parent\"><img src=\"https://colab.research.google.com/assets/colab-badge.svg\" alt=\"Open In Colab\"/></a>"
      ]
    },
    {
      "cell_type": "code",
      "metadata": {
        "id": "57gZxvzRmZBY"
      },
      "source": [
        "from google.colab import drive\r\n",
        "drive.mount('/content/drive/')\r\n",
        "import os\r\n",
        "path = \"/content/drive/MyDrive/csf/\"\r\n",
        "folders = os.listdir(path)\r\n",
        "print(folders)\r\n",
        "print(len(folders))\r\n",
        "y=0\r\n",
        "x=0\r\n",
        "z=0\r\n",
        "for i, folder in enumerate(folders):\r\n",
        "  files = os.listdir(path+folder)\r\n",
        "  for j,f in enumerate(files):\r\n",
        "    x = os.path.getsize(path+folder+\"/\"+f)\r\n",
        "    y = y+x\r\n",
        "  z += 1\r\n",
        "  if len(files)!=13:\r\n",
        "    print(folder)\r\n",
        "print(y)\r\n",
        "\r\n",
        "print(z)"
      ],
      "execution_count": null,
      "outputs": []
    }
  ]
}