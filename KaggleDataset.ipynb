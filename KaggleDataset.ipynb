{
  "nbformat": 4,
  "nbformat_minor": 0,
  "metadata": {
    "colab": {
      "name": "KaggleDataset.ipynb",
      "provenance": [],
      "authorship_tag": "ABX9TyPCemVBnyyqN/4cNI2sqkXP",
      "include_colab_link": true
    },
    "kernelspec": {
      "name": "python3",
      "display_name": "Python 3"
    }
  },
  "cells": [
    {
      "cell_type": "markdown",
      "metadata": {
        "id": "view-in-github",
        "colab_type": "text"
      },
      "source": [
        "<a href=\"https://colab.research.google.com/github/GoldFiiish/medical-data/blob/master/KaggleDataset.ipynb\" target=\"_parent\"><img src=\"https://colab.research.google.com/assets/colab-badge.svg\" alt=\"Open In Colab\"/></a>"
      ]
    },
    {
      "cell_type": "code",
      "metadata": {
        "id": "UHEF2pN2lRmn"
      },
      "source": [
        " \r\n",
        " ! pip install -q kaggle\r\n",
        " from google.colab import files \r\n",
        "\r\n",
        " #account>>API>>Expire API token>>>>Create...\r\n",
        " files.upload()\r\n",
        "\r\n",
        " ! mkdir ~/.kaggle\r\n",
        "\r\n",
        "! cp kaggle.json ~/.kaggle/\r\n",
        "! chmod 600 ~/.kaggle/kaggle.json\r\n",
        " ! kaggle datasets list\r\n",
        " !kaggle datasets download -d suyashdamle/cyclegan\r\n",
        " ! mkdir dataset\r\n",
        " ! unzip cyclegan.zip -d dataset"
      ],
      "execution_count": null,
      "outputs": []
    }
  ]
}